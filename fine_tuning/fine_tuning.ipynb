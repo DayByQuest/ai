{
 "cells": [
  {
   "cell_type": "code",
   "execution_count": null,
   "metadata": {},
   "outputs": [],
   "source": [
    "import numpy as np\n",
    "import torch\n",
    "import torch.nn as nn\n",
    "from torch import optim\n",
    "from torch.utils.data import DataLoader, random_split\n",
    "import os\n",
    "import matplotlib.pyplot as plt\n",
    "from PIL import Image\n",
    "import numpy as np\n",
    "import json\n",
    "import clip\n",
    "\n",
    "%config InlineBackend.figure_format = 'retina'"
   ]
  },
  {
   "cell_type": "code",
   "execution_count": null,
   "metadata": {},
   "outputs": [],
   "source": [
    "device = torch.device(\"cuda:1\" if torch.cuda.is_available() else \"cpu\")"
   ]
  },
  {
   "cell_type": "code",
   "execution_count": null,
   "metadata": {},
   "outputs": [],
   "source": [
    "model, preprocess = clip.load(\"ViT-L/14@336px\")\n",
    "model.to(device).eval()"
   ]
  },
  {
   "cell_type": "code",
   "execution_count": null,
   "metadata": {},
   "outputs": [],
   "source": [
    "seed_value = 42\n",
    "\n",
    "# PyTorch 시드 설정\n",
    "torch.manual_seed(seed_value)\n",
    "\n",
    "# GPU 사용 시\n",
    "if torch.cuda.is_available():\n",
    "    torch.cuda.manual_seed(seed_value)\n",
    "    torch.cuda.manual_seed_all(seed_value)"
   ]
  },
  {
   "cell_type": "code",
   "execution_count": null,
   "metadata": {},
   "outputs": [],
   "source": [
    "class image_text_dataset():\n",
    "    def __init__(self, list_image_path,list_txt):\n",
    "        # Initialize image paths and corresponding texts\n",
    "        self.image_path = list_image_path\n",
    "        # Tokenize text using CLIP's tokenizer\n",
    "        self.title  = clip.tokenize(list_txt)\n",
    "\n",
    "    def __len__(self):\n",
    "        return len(self.title)\n",
    "\n",
    "    def __getitem__(self, idx):\n",
    "        # Preprocess image using CLIP's preprocessing function\n",
    "        image = preprocess(Image.open(self.image_path[idx]))\n",
    "        title = self.title[idx]\n",
    "        return image, title"
   ]
  },
  {
   "cell_type": "code",
   "execution_count": null,
   "metadata": {},
   "outputs": [],
   "source": [
    "label_path = os.listdir(os.getenv('DATA_FOR_TUNING') + '/labels/')\n",
    "label_path = sorted(label_path)\n",
    "image_path = os.getenv('DATA_FOR_TUNING') + '/images/'\n",
    "image_list = []\n",
    "label_list = []\n",
    "for path in label_path:\n",
    "  p = os.getenv('DATA_FOR_TUNING') + '/labels/' + path\n",
    "  with open(p, 'r') as f:\n",
    "    json_data = json.load(f)\n",
    "    image_list.append(image_path + json_data['images'][0]['file_name'])\n",
    "    label_list.append(json_data['annotations'][0]['english'])"
   ]
  },
  {
   "cell_type": "code",
   "execution_count": null,
   "metadata": {},
   "outputs": [],
   "source": [
    "# 데이터셋 크기 계산\n",
    "dataset_size = len(dataset)\n",
    "train_size = int(dataset_size * 0.6)\n",
    "validation_size = int(dataset_size * 0.2)\n",
    "test_size = dataset_size - (train_size + validation_size)\n",
    "\n",
    "# 데이터셋 분할\n",
    "train_dataset, validation_dataset, test_dataset = random_split(dataset, [train_size, validation_size, test_size])\n",
    "\n",
    "# 데이터 로더 생성\n",
    "train_loader = DataLoader(train_dataset, batch_size=128, shuffle=True)\n",
    "validation_loader = DataLoader(validation_dataset, batch_size=128, shuffle=False)\n",
    "test_loader = DataLoader(test_dataset, batch_size=128, shuffle=False)"
   ]
  },
  {
   "cell_type": "code",
   "execution_count": null,
   "metadata": {},
   "outputs": [],
   "source": [
    "criterion = nn.CrossEntropyLoss()\n",
    "optimizer = optim.Adam(model.parameters(), lr=1e-5)"
   ]
  },
  {
   "cell_type": "code",
   "execution_count": null,
   "metadata": {},
   "outputs": [],
   "source": [
    "# 학습 루프\n",
    "num_epochs = 5  # 에폭 수\n",
    "best_val_loss = 1e5\n",
    "\n",
    "for epoch in range(num_epochs):\n",
    "    # 학습 단계\n",
    "    model.train()  # 모델을 학습 모드로 설정\n",
    "    for images, texts in train_loader:\n",
    "        images, texts = images.to(device), texts.to(device)\n",
    "        logits_per_image, logits_per_text = model(images, texts)\n",
    "        ground_truth = torch.arange(images.size(0), dtype=torch.long, device=device)\n",
    "\n",
    "        loss = (criterion(logits_per_image, ground_truth) +\n",
    "                criterion(logits_per_text, ground_truth)) / 2\n",
    "        optimizer.zero_grad()\n",
    "        loss.backward()\n",
    "        optimizer.step()\n",
    "\n",
    "    print(f\"Epoch {epoch+1}/{num_epochs}, Training Loss: {loss.item()}\")\n",
    "\n",
    "    # 검증 단계\n",
    "    model.eval()  # 모델을 평가 모드로 설정\n",
    "    total_loss = 0\n",
    "    with torch.no_grad():  \n",
    "        for images, texts in validation_loader:  \n",
    "            images, texts = images.to(device), texts.to(device)\n",
    "            logits_per_image, logits_per_text = model(images, texts)\n",
    "            ground_truth = torch.arange(images.size(0), dtype=torch.long, device=device)\n",
    "\n",
    "            loss = (criterion(logits_per_image, ground_truth) +\n",
    "                    criterion(logits_per_text, ground_truth)) / 2\n",
    "            total_loss += loss.item()\n",
    "\n",
    "    avg_loss = total_loss / len(validation_loader)\n",
    "\n",
    "    if avg_loss < best_val_loss:\n",
    "        best_val_loss = avg_loss\n",
    "        torch.save(model.state_dict(), \"best_model.pt\")\n",
    "\n",
    "    print(f\"Epoch {epoch+1}/{num_epochs}, Validation Loss: {avg_loss}\")\n"
   ]
  },
  {
   "cell_type": "code",
   "execution_count": null,
   "metadata": {},
   "outputs": [],
   "source": [
    "model.load_state_dict(torch.load(\"best_model.pt\"))"
   ]
  },
  {
   "cell_type": "code",
   "execution_count": null,
   "metadata": {},
   "outputs": [],
   "source": [
    "# 테스트 단계\n",
    "model.eval()  # 모델을 평가 모드로 설정\n",
    "total_loss = 0\n",
    "total_correct = 0\n",
    "total_images = 0\n",
    "\n",
    "with torch.no_grad():  \n",
    "    for images, texts in test_loader:  \n",
    "        images, texts = images.to(device), texts.to(device)\n",
    "        logits_per_image, logits_per_text = model(images, texts)\n",
    "        ground_truth = torch.arange(images.size(0), dtype=torch.long, device=device)\n",
    "\n",
    "        loss = (criterion(logits_per_image, ground_truth) +\n",
    "                criterion(logits_per_text, ground_truth)) / 2\n",
    "        total_loss += loss.item()\n",
    "\n",
    "        # 정확도 계산\n",
    "        _, predicted = torch.max(logits_per_image, 1)\n",
    "        total_correct += (predicted == ground_truth).sum().item()\n",
    "        total_images += images.size(0)\n",
    "\n",
    "avg_loss = total_loss / len(test_loader)\n",
    "accuracy = total_correct / total_images * 100\n",
    "print(f\"Test Loss: {avg_loss}, Accuracy: {accuracy}%\")"
   ]
  }
 ],
 "metadata": {
  "kernelspec": {
   "display_name": "personal",
   "language": "python",
   "name": "personal"
  },
  "language_info": {
   "codemirror_mode": {
    "name": "ipython",
    "version": 3
   },
   "file_extension": ".py",
   "mimetype": "text/x-python",
   "name": "python",
   "nbconvert_exporter": "python",
   "pygments_lexer": "ipython3",
   "version": "3.11.5"
  }
 },
 "nbformat": 4,
 "nbformat_minor": 2
}
